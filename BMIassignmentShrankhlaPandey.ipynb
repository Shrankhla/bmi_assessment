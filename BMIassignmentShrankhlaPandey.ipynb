{
 "cells": [
  {
   "cell_type": "code",
   "execution_count": 1,
   "metadata": {},
   "outputs": [],
   "source": [
    "import pandas as pd\n",
    "import numpy as np"
   ]
  },
  {
   "cell_type": "code",
   "execution_count": 2,
   "metadata": {},
   "outputs": [],
   "source": [
    "json_ = [{\"Gender\": \"Male\", \"HeightCm\": 171, \"WeightKg\": 96 },\n",
    "{ \"Gender\": \"Male\", \"HeightCm\": 161, \"WeightKg\": 85 },\n",
    "{ \"Gender\": \"Male\", \"HeightCm\": 180, \"WeightKg\": 77 },\n",
    "{ \"Gender\": \"Female\", \"HeightCm\": 166, \"WeightKg\": 62},\n",
    "{\"Gender\": \"Female\", \"HeightCm\": 150, \"WeightKg\": 70},\n",
    "{\"Gender\": \"Female\", \"HeightCm\": 167, \"WeightKg\": 82}]"
   ]
  },
  {
   "cell_type": "code",
   "execution_count": 3,
   "metadata": {
    "scrolled": true
   },
   "outputs": [
    {
     "data": {
      "text/html": [
       "<div>\n",
       "<style scoped>\n",
       "    .dataframe tbody tr th:only-of-type {\n",
       "        vertical-align: middle;\n",
       "    }\n",
       "\n",
       "    .dataframe tbody tr th {\n",
       "        vertical-align: top;\n",
       "    }\n",
       "\n",
       "    .dataframe thead th {\n",
       "        text-align: right;\n",
       "    }\n",
       "</style>\n",
       "<table border=\"1\" class=\"dataframe\">\n",
       "  <thead>\n",
       "    <tr style=\"text-align: right;\">\n",
       "      <th></th>\n",
       "      <th>Gender</th>\n",
       "      <th>HeightCm</th>\n",
       "      <th>WeightKg</th>\n",
       "    </tr>\n",
       "  </thead>\n",
       "  <tbody>\n",
       "    <tr>\n",
       "      <th>0</th>\n",
       "      <td>Male</td>\n",
       "      <td>171</td>\n",
       "      <td>96</td>\n",
       "    </tr>\n",
       "    <tr>\n",
       "      <th>1</th>\n",
       "      <td>Male</td>\n",
       "      <td>161</td>\n",
       "      <td>85</td>\n",
       "    </tr>\n",
       "    <tr>\n",
       "      <th>2</th>\n",
       "      <td>Male</td>\n",
       "      <td>180</td>\n",
       "      <td>77</td>\n",
       "    </tr>\n",
       "    <tr>\n",
       "      <th>3</th>\n",
       "      <td>Female</td>\n",
       "      <td>166</td>\n",
       "      <td>62</td>\n",
       "    </tr>\n",
       "    <tr>\n",
       "      <th>4</th>\n",
       "      <td>Female</td>\n",
       "      <td>150</td>\n",
       "      <td>70</td>\n",
       "    </tr>\n",
       "    <tr>\n",
       "      <th>5</th>\n",
       "      <td>Female</td>\n",
       "      <td>167</td>\n",
       "      <td>82</td>\n",
       "    </tr>\n",
       "  </tbody>\n",
       "</table>\n",
       "</div>"
      ],
      "text/plain": [
       "   Gender  HeightCm  WeightKg\n",
       "0    Male       171        96\n",
       "1    Male       161        85\n",
       "2    Male       180        77\n",
       "3  Female       166        62\n",
       "4  Female       150        70\n",
       "5  Female       167        82"
      ]
     },
     "execution_count": 3,
     "metadata": {},
     "output_type": "execute_result"
    }
   ],
   "source": [
    "#Create the pandas DataFrame\n",
    "participants = pd.DataFrame(json_)\n",
    "participants"
   ]
  },
  {
   "cell_type": "code",
   "execution_count": 4,
   "metadata": {
    "scrolled": true
   },
   "outputs": [
    {
     "data": {
      "text/html": [
       "<div>\n",
       "<style scoped>\n",
       "    .dataframe tbody tr th:only-of-type {\n",
       "        vertical-align: middle;\n",
       "    }\n",
       "\n",
       "    .dataframe tbody tr th {\n",
       "        vertical-align: top;\n",
       "    }\n",
       "\n",
       "    .dataframe thead th {\n",
       "        text-align: right;\n",
       "    }\n",
       "</style>\n",
       "<table border=\"1\" class=\"dataframe\">\n",
       "  <thead>\n",
       "    <tr style=\"text-align: right;\">\n",
       "      <th></th>\n",
       "      <th>BMI Category</th>\n",
       "      <th>BMI Range (kg/m2)</th>\n",
       "      <th>Health risk</th>\n",
       "    </tr>\n",
       "  </thead>\n",
       "  <tbody>\n",
       "    <tr>\n",
       "      <th>0</th>\n",
       "      <td>Underweight</td>\n",
       "      <td>18.4 and below</td>\n",
       "      <td>Malnutrition risk</td>\n",
       "    </tr>\n",
       "    <tr>\n",
       "      <th>1</th>\n",
       "      <td>Normal weight</td>\n",
       "      <td>18.5 - 24.9</td>\n",
       "      <td>Low risk</td>\n",
       "    </tr>\n",
       "    <tr>\n",
       "      <th>2</th>\n",
       "      <td>Overweight</td>\n",
       "      <td>25 - 29.9</td>\n",
       "      <td>Enhanced risk</td>\n",
       "    </tr>\n",
       "    <tr>\n",
       "      <th>3</th>\n",
       "      <td>Moderately obese</td>\n",
       "      <td>30 - 34.9</td>\n",
       "      <td>Medium risk</td>\n",
       "    </tr>\n",
       "    <tr>\n",
       "      <th>4</th>\n",
       "      <td>Severely obese</td>\n",
       "      <td>35 - 39.9</td>\n",
       "      <td>High risk</td>\n",
       "    </tr>\n",
       "    <tr>\n",
       "      <th>5</th>\n",
       "      <td>Very severely obese</td>\n",
       "      <td>40 and above</td>\n",
       "      <td>Very high risk</td>\n",
       "    </tr>\n",
       "  </tbody>\n",
       "</table>\n",
       "</div>"
      ],
      "text/plain": [
       "          BMI Category BMI Range (kg/m2)        Health risk\n",
       "0          Underweight    18.4 and below  Malnutrition risk\n",
       "1        Normal weight       18.5 - 24.9           Low risk\n",
       "2           Overweight         25 - 29.9      Enhanced risk\n",
       "3     Moderately obese         30 - 34.9        Medium risk\n",
       "4       Severely obese         35 - 39.9          High risk\n",
       "5  Very severely obese      40 and above     Very high risk"
      ]
     },
     "execution_count": 4,
     "metadata": {},
     "output_type": "execute_result"
    }
   ],
   "source": [
    "BMI_table = [['Underweight','18.4 and below','Malnutrition risk'],\n",
    "        ['Normal weight', '18.5 - 24.9', 'Low risk'],\n",
    "        ['Overweight', '25 - 29.9', 'Enhanced risk'],\n",
    "        ['Moderately obese', '30 - 34.9', 'Medium risk'],\n",
    "        ['Severely obese', '35 - 39.9', 'High risk'],\n",
    "        ['Very severely obese', '40 and above', 'Very high risk']]\n",
    "#Create the pandas DataFrame\n",
    "BMI_INFO = pd.DataFrame(BMI_table, columns=['BMI Category', 'BMI Range (kg/m2)','Health risk'])\n",
    "BMI_INFO"
   ]
  },
  {
   "cell_type": "markdown",
   "metadata": {},
   "source": [
    "# TASK1:  part(a) Calculate the BMI (Body Mass Index) using Formula 1"
   ]
  },
  {
   "cell_type": "code",
   "execution_count": 5,
   "metadata": {},
   "outputs": [
    {
     "data": {
      "text/html": [
       "<div>\n",
       "<style scoped>\n",
       "    .dataframe tbody tr th:only-of-type {\n",
       "        vertical-align: middle;\n",
       "    }\n",
       "\n",
       "    .dataframe tbody tr th {\n",
       "        vertical-align: top;\n",
       "    }\n",
       "\n",
       "    .dataframe thead th {\n",
       "        text-align: right;\n",
       "    }\n",
       "</style>\n",
       "<table border=\"1\" class=\"dataframe\">\n",
       "  <thead>\n",
       "    <tr style=\"text-align: right;\">\n",
       "      <th></th>\n",
       "      <th>Gender</th>\n",
       "      <th>HeightCm</th>\n",
       "      <th>WeightKg</th>\n",
       "      <th>BMI</th>\n",
       "    </tr>\n",
       "  </thead>\n",
       "  <tbody>\n",
       "    <tr>\n",
       "      <th>0</th>\n",
       "      <td>Male</td>\n",
       "      <td>171</td>\n",
       "      <td>96</td>\n",
       "      <td>32.830615</td>\n",
       "    </tr>\n",
       "    <tr>\n",
       "      <th>1</th>\n",
       "      <td>Male</td>\n",
       "      <td>161</td>\n",
       "      <td>85</td>\n",
       "      <td>32.791945</td>\n",
       "    </tr>\n",
       "    <tr>\n",
       "      <th>2</th>\n",
       "      <td>Male</td>\n",
       "      <td>180</td>\n",
       "      <td>77</td>\n",
       "      <td>23.765432</td>\n",
       "    </tr>\n",
       "    <tr>\n",
       "      <th>3</th>\n",
       "      <td>Female</td>\n",
       "      <td>166</td>\n",
       "      <td>62</td>\n",
       "      <td>22.499637</td>\n",
       "    </tr>\n",
       "    <tr>\n",
       "      <th>4</th>\n",
       "      <td>Female</td>\n",
       "      <td>150</td>\n",
       "      <td>70</td>\n",
       "      <td>31.111111</td>\n",
       "    </tr>\n",
       "    <tr>\n",
       "      <th>5</th>\n",
       "      <td>Female</td>\n",
       "      <td>167</td>\n",
       "      <td>82</td>\n",
       "      <td>29.402273</td>\n",
       "    </tr>\n",
       "  </tbody>\n",
       "</table>\n",
       "</div>"
      ],
      "text/plain": [
       "   Gender  HeightCm  WeightKg        BMI\n",
       "0    Male       171        96  32.830615\n",
       "1    Male       161        85  32.791945\n",
       "2    Male       180        77  23.765432\n",
       "3  Female       166        62  22.499637\n",
       "4  Female       150        70  31.111111\n",
       "5  Female       167        82  29.402273"
      ]
     },
     "execution_count": 5,
     "metadata": {},
     "output_type": "execute_result"
    }
   ],
   "source": [
    "participants['BMI']= participants.WeightKg/((participants.HeightCm/100)**2)\n",
    "participants"
   ]
  },
  {
   "cell_type": "markdown",
   "metadata": {},
   "source": [
    "# TASK1: part(b) add BMI Category and Health risk as new columns"
   ]
  },
  {
   "cell_type": "code",
   "execution_count": 6,
   "metadata": {},
   "outputs": [],
   "source": [
    "BMI_conditions = [(participants['BMI'] <18.4),\n",
    "                 (participants['BMI'] >18.5) & (participants['BMI'] <24.9),\n",
    "                 (participants['BMI'] >25) & (participants['BMI'] <29.9),\n",
    "                 (participants['BMI'] >30) & (participants['BMI'] <34.9),\n",
    "                  (participants['BMI'] >35) & (participants['BMI'] <39.9),\n",
    "                  (participants['BMI'] >40)]"
   ]
  },
  {
   "cell_type": "markdown",
   "metadata": {},
   "source": [
    "risk = ['Malnutrition_risk','Low_risk','Enhanced_risk','Medium_risk','High_risk','Very_high_risk']\n",
    "participants[''] = np.select(BMI_conditions,risk)\n",
    "\n",
    "category = ['Underweight','Normal weight','Overweight','Moderately_obese','Severely_obese','Very_severely_obese']\n",
    "participants['BMI_category'] = np.select(BMI_conditions,category)"
   ]
  },
  {
   "cell_type": "code",
   "execution_count": 7,
   "metadata": {},
   "outputs": [
    {
     "data": {
      "text/html": [
       "<div>\n",
       "<style scoped>\n",
       "    .dataframe tbody tr th:only-of-type {\n",
       "        vertical-align: middle;\n",
       "    }\n",
       "\n",
       "    .dataframe tbody tr th {\n",
       "        vertical-align: top;\n",
       "    }\n",
       "\n",
       "    .dataframe thead th {\n",
       "        text-align: right;\n",
       "    }\n",
       "</style>\n",
       "<table border=\"1\" class=\"dataframe\">\n",
       "  <thead>\n",
       "    <tr style=\"text-align: right;\">\n",
       "      <th></th>\n",
       "      <th>Gender</th>\n",
       "      <th>HeightCm</th>\n",
       "      <th>WeightKg</th>\n",
       "      <th>BMI</th>\n",
       "      <th>Health_risk</th>\n",
       "      <th>BMI_category</th>\n",
       "    </tr>\n",
       "  </thead>\n",
       "  <tbody>\n",
       "    <tr>\n",
       "      <th>0</th>\n",
       "      <td>Male</td>\n",
       "      <td>171</td>\n",
       "      <td>96</td>\n",
       "      <td>32.830615</td>\n",
       "      <td>Medium risk</td>\n",
       "      <td>Moderately obese</td>\n",
       "    </tr>\n",
       "    <tr>\n",
       "      <th>1</th>\n",
       "      <td>Male</td>\n",
       "      <td>161</td>\n",
       "      <td>85</td>\n",
       "      <td>32.791945</td>\n",
       "      <td>Medium risk</td>\n",
       "      <td>Moderately obese</td>\n",
       "    </tr>\n",
       "    <tr>\n",
       "      <th>2</th>\n",
       "      <td>Male</td>\n",
       "      <td>180</td>\n",
       "      <td>77</td>\n",
       "      <td>23.765432</td>\n",
       "      <td>Low risk</td>\n",
       "      <td>Normal weight</td>\n",
       "    </tr>\n",
       "    <tr>\n",
       "      <th>3</th>\n",
       "      <td>Female</td>\n",
       "      <td>166</td>\n",
       "      <td>62</td>\n",
       "      <td>22.499637</td>\n",
       "      <td>Low risk</td>\n",
       "      <td>Normal weight</td>\n",
       "    </tr>\n",
       "    <tr>\n",
       "      <th>4</th>\n",
       "      <td>Female</td>\n",
       "      <td>150</td>\n",
       "      <td>70</td>\n",
       "      <td>31.111111</td>\n",
       "      <td>Medium risk</td>\n",
       "      <td>Moderately obese</td>\n",
       "    </tr>\n",
       "    <tr>\n",
       "      <th>5</th>\n",
       "      <td>Female</td>\n",
       "      <td>167</td>\n",
       "      <td>82</td>\n",
       "      <td>29.402273</td>\n",
       "      <td>Enhanced risk</td>\n",
       "      <td>Overweight</td>\n",
       "    </tr>\n",
       "  </tbody>\n",
       "</table>\n",
       "</div>"
      ],
      "text/plain": [
       "   Gender  HeightCm  WeightKg        BMI    Health_risk      BMI_category\n",
       "0    Male       171        96  32.830615    Medium risk  Moderately obese\n",
       "1    Male       161        85  32.791945    Medium risk  Moderately obese\n",
       "2    Male       180        77  23.765432       Low risk     Normal weight\n",
       "3  Female       166        62  22.499637       Low risk     Normal weight\n",
       "4  Female       150        70  31.111111    Medium risk  Moderately obese\n",
       "5  Female       167        82  29.402273  Enhanced risk        Overweight"
      ]
     },
     "execution_count": 7,
     "metadata": {},
     "output_type": "execute_result"
    }
   ],
   "source": [
    "risk = ['Malnutrition risk','Low risk','Enhanced risk','Medium risk','High risk','Very high risk']\n",
    "participants['Health_risk'] = np.select(BMI_conditions,risk)\n",
    "\n",
    "category = ['Underweight','Normal weight','Overweight','Moderately obese','Severely obese','Very severely obese']\n",
    "participants['BMI_category'] = np.select(BMI_conditions,category)\n",
    "\n",
    "participants"
   ]
  },
  {
   "cell_type": "markdown",
   "metadata": {},
   "source": [
    "# TASK2: Count the total number of overweight people"
   ]
  },
  {
   "cell_type": "code",
   "execution_count": 8,
   "metadata": {},
   "outputs": [
    {
     "data": {
      "text/plain": [
       "1"
      ]
     },
     "execution_count": 8,
     "metadata": {},
     "output_type": "execute_result"
    }
   ],
   "source": [
    "(participants.BMI_category =='Overweight').sum()"
   ]
  },
  {
   "cell_type": "code",
   "execution_count": null,
   "metadata": {},
   "outputs": [],
   "source": []
  },
  {
   "cell_type": "code",
   "execution_count": null,
   "metadata": {},
   "outputs": [],
   "source": []
  }
 ],
 "metadata": {
  "kernelspec": {
   "display_name": "Python 3",
   "language": "python",
   "name": "python3"
  },
  "language_info": {
   "codemirror_mode": {
    "name": "ipython",
    "version": 3
   },
   "file_extension": ".py",
   "mimetype": "text/x-python",
   "name": "python",
   "nbconvert_exporter": "python",
   "pygments_lexer": "ipython3",
   "version": "3.8.5"
  },
  "toc": {
   "base_numbering": 1,
   "nav_menu": {},
   "number_sections": false,
   "sideBar": true,
   "skip_h1_title": false,
   "title_cell": "Table of Contents",
   "title_sidebar": "Contents",
   "toc_cell": false,
   "toc_position": {},
   "toc_section_display": true,
   "toc_window_display": false
  }
 },
 "nbformat": 4,
 "nbformat_minor": 4
}
